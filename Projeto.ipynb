{
  "nbformat": 4,
  "nbformat_minor": 0,
  "metadata": {
    "colab": {
      "provenance": [],
      "authorship_tag": "ABX9TyMaGjpVTRk0h6ZjcapSlSOt",
      "include_colab_link": true
    },
    "kernelspec": {
      "name": "python3",
      "display_name": "Python 3"
    },
    "language_info": {
      "name": "python"
    }
  },
  "cells": [
    {
      "cell_type": "markdown",
      "metadata": {
        "id": "view-in-github",
        "colab_type": "text"
      },
      "source": [
        "<a href=\"https://colab.research.google.com/github/sophiemangini/projetos-faculdade/blob/main/Projeto.ipynb\" target=\"_parent\"><img src=\"https://colab.research.google.com/assets/colab-badge.svg\" alt=\"Open In Colab\"/></a>"
      ]
    },
    {
      "cell_type": "code",
      "execution_count": null,
      "metadata": {
        "colab": {
          "base_uri": "https://localhost:8080/"
        },
        "id": "PCxUkfz5bQME",
        "outputId": "3772471f-7acb-4933-fc3b-791537def67f"
      },
      "outputs": [
        {
          "name": "stdout",
          "output_type": "stream",
          "text": [
            "Bem-vindo ao programa de análise de dados meteorológicos!\n",
            "Informe a temperatura máxima para o mês 1: 34\n",
            "Informe a temperatura máxima para o mês 2: 56\n",
            "Temperatura inválida. Digite uma temperatura entre -60 e +50 graus Celsius.\n",
            "Informe novamente a temperatura máxima para o mês 2: 78\n",
            "Temperatura inválida. Digite uma temperatura entre -60 e +50 graus Celsius.\n",
            "Informe novamente a temperatura máxima para o mês 2: 23\n"
          ]
        }
      ],
      "source": [
        "# Inicialização das variáveis\n",
        "temperaturas_maximas = []\n",
        "meses_escaldantes = 0\n",
        "temperatura_maxima_anual = 0\n",
        "mes_mais_escaldante = \"\"\n",
        "mes_menos_quente = \"\"\n",
        "temperatura_maxima_mes_mais_escaldante = -60\n",
        "temperatura_maxima_mes_menos_quente = 50\n",
        "\n",
        "# Mensagem de boas-vindas\n",
        "print(\"Bem-vindo ao programa de análise de dados meteorológicos!\")\n",
        "\n",
        "# Loop para coletar dados de temperatura para cada mês\n",
        "for mes in range(1, 13):\n",
        "    # Solicitação da temperatura ao usuário\n",
        "    temperatura = float(input(f\"Informe a temperatura máxima para o mês {mes}: \"))\n",
        "\n",
        "    # Validação da temperatura\n",
        "    while temperatura < -60 or temperatura > 50:\n",
        "        print(\"Temperatura inválida. Digite uma temperatura entre -60 e +50 graus Celsius.\")\n",
        "        temperatura = float(input(f\"Informe novamente a temperatura máxima para o mês {mes}: \"))\n",
        "\n",
        "    # Atualização das estatísticas\n",
        "    if temperatura > 38:\n",
        "        meses_escaldantes += 1\n",
        "    if temperatura > temperatura_maxima_mes_mais_escaldante:\n",
        "        temperatura_maxima_mes_mais_escaldante = temperatura\n",
        "        mes_mais_escaldante = mes\n",
        "    if temperatura < temperatura_maxima_mes_menos_quente:\n",
        "        temperatura_maxima_mes_menos_quente = temperatura\n",
        "        mes_menos_quente = mes\n",
        "\n",
        "    # Armazenamento da temperatura\n",
        "    temperaturas_maximas.append(temperatura)\n",
        "\n",
        "# Cálculo da temperatura média máxima anual\n",
        "temperatura_maxima_anual = sum(temperaturas_maximas) / len(temperaturas_maximas)\n",
        "\n",
        "# Exibição dos resultados\n",
        "print(\"\\nResumo das estatísticas meteorológicas:\")\n",
        "print(f\"Temperatura média máxima anual: {temperatura_maxima_anual:.2f} graus Celsius\")\n",
        "print(f\"Quantidade de meses escaldantes: {meses_escaldantes}\")\n",
        "\n",
        "# Convertendo o número do mês para o nome do mês\n",
        "meses_do_ano = [\"Janeiro\", \"Fevereiro\", \"Março\", \"Abril\", \"Maio\", \"Junho\", \"Julho\", \"Agosto\", \"Setembro\", \"Outubro\", \"Novembro\", \"Dezembro\"]\n",
        "mes_mais_escaldante_nome = meses_do_ano[mes_mais_escaldante - 1]\n",
        "mes_menos_quente_nome = meses_do_ano[mes_menos_quente - 1]\n",
        "\n",
        "print(f\"Mês mais escaldante do ano: {mes_mais_escaldante_nome}\")\n",
        "print(f\"Mês menos quente do ano: {mes_menos_quente_nome}\")\n"
      ]
    },
    {
      "cell_type": "code",
      "source": [],
      "metadata": {
        "id": "iS388LbrbVBG"
      },
      "execution_count": null,
      "outputs": []
    }
  ]
}